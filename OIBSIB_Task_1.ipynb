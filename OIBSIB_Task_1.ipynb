{
  "nbformat": 4,
  "nbformat_minor": 0,
  "metadata": {
    "colab": {
      "private_outputs": true,
      "provenance": []
    },
    "kernelspec": {
      "name": "python3",
      "display_name": "Python 3"
    },
    "language_info": {
      "name": "python"
    }
  },
  "cells": [
    {
      "cell_type": "markdown",
      "source": [
        "#OASIS INFOBYTE\n",
        "#Data Science Internship\n",
        "#Name: UPPARI SRIDHAR\n",
        "#Task-1: UNEMPLOYMENT ANALYSIS WITH PYTHON"
      ],
      "metadata": {
        "id": "q9DBQLEEpKij"
      }
    },
    {
      "cell_type": "code",
      "source": [
        "# importing libraries\n",
        "import pandas as pd\n",
        "import numpy as np\n",
        "import seaborn as sns\n",
        "from matplotlib import pyplot as plt\n",
        "import plotly.express as px"
      ],
      "metadata": {
        "id": "8Ah1hcP-pLrV"
      },
      "execution_count": null,
      "outputs": []
    },
    {
      "cell_type": "code",
      "source": [
        "# importing dataset\n",
        "df=pd.read_csv('/content/Unemployment in India.csv')\n",
        "df=pd.read_csv('/content/Unemployment_Rate_upto_11_2020.csv')"
      ],
      "metadata": {
        "id": "emDwX6-wTGjA"
      },
      "execution_count": null,
      "outputs": []
    },
    {
      "cell_type": "code",
      "source": [
        "df"
      ],
      "metadata": {
        "id": "cC6DIxH9TdfH"
      },
      "execution_count": null,
      "outputs": []
    },
    {
      "cell_type": "code",
      "source": [
        "df.head()"
      ],
      "metadata": {
        "id": "KumqKxJETiWc"
      },
      "execution_count": null,
      "outputs": []
    },
    {
      "cell_type": "code",
      "source": [
        "df.tail()"
      ],
      "metadata": {
        "id": "CvSzDFOwTuQk"
      },
      "execution_count": null,
      "outputs": []
    },
    {
      "cell_type": "code",
      "source": [
        "df.shape"
      ],
      "metadata": {
        "id": "Rz3PEmLdT7Mv"
      },
      "execution_count": null,
      "outputs": []
    },
    {
      "cell_type": "code",
      "source": [
        "print(\"Rows-\",df.shape[0])\n",
        "print(\"Columns-\",df.shape[1])"
      ],
      "metadata": {
        "id": "9VJUnWKdUBx9"
      },
      "execution_count": null,
      "outputs": []
    },
    {
      "cell_type": "code",
      "source": [
        "df.isnull()"
      ],
      "metadata": {
        "id": "oNDBBWILURSV"
      },
      "execution_count": null,
      "outputs": []
    },
    {
      "cell_type": "code",
      "source": [
        "df.isnull().sum()"
      ],
      "metadata": {
        "id": "rUzPd1GzUVFj"
      },
      "execution_count": null,
      "outputs": []
    },
    {
      "cell_type": "code",
      "source": [
        "df.describe()"
      ],
      "metadata": {
        "id": "J1e7UEOtUf4y"
      },
      "execution_count": null,
      "outputs": []
    },
    {
      "cell_type": "code",
      "source": [
        "df.info()"
      ],
      "metadata": {
        "id": "QF4cRod6UmWZ"
      },
      "execution_count": null,
      "outputs": []
    },
    {
      "cell_type": "code",
      "source": [
        "df.columns=['States','Date','Frequency','Estimated Unemployment Rate','Estimated Employed','Estimated Labour Participation Rate','Region.1','longitude','latitude']"
      ],
      "metadata": {
        "id": "ZfKaZO3ZUi9J"
      },
      "execution_count": null,
      "outputs": []
    },
    {
      "cell_type": "code",
      "source": [
        "df"
      ],
      "metadata": {
        "id": "g6hJnnB4VpDq"
      },
      "execution_count": null,
      "outputs": []
    },
    {
      "cell_type": "code",
      "source": [
        "df[['Day','Month','Year']]=df['Date'].str.split('-',expand=True)"
      ],
      "metadata": {
        "id": "9PA5x8MDVr9-"
      },
      "execution_count": null,
      "outputs": []
    },
    {
      "cell_type": "code",
      "source": [
        "df.head()"
      ],
      "metadata": {
        "id": "RcUNG-b-WoLW"
      },
      "execution_count": null,
      "outputs": []
    },
    {
      "cell_type": "code",
      "source": [
        "df.drop(columns=['Frequency'],axis=0,inplace=True)"
      ],
      "metadata": {
        "id": "e1dtQ9NNWr39"
      },
      "execution_count": null,
      "outputs": []
    },
    {
      "cell_type": "code",
      "source": [
        "df.head()"
      ],
      "metadata": {
        "id": "GNv2McMVW-Bb"
      },
      "execution_count": null,
      "outputs": []
    },
    {
      "cell_type": "code",
      "source": [
        "# Visualizing\n",
        "sns.heatmap(df.corr(), annot=True, cmap='Greens')\n",
        "plt.show()"
      ],
      "metadata": {
        "id": "H_IL5MPDXAHm"
      },
      "execution_count": null,
      "outputs": []
    },
    {
      "cell_type": "code",
      "source": [
        "# Analysing\n",
        "df.columns\n",
        "plt.title(\"Unemployment in India\")\n",
        "sns.histplot(x=\"Estimated Employed\",hue=\"Region.1\",data=df)\n",
        "plt.show()"
      ],
      "metadata": {
        "id": "_vkP2-XiXQ5U"
      },
      "execution_count": null,
      "outputs": []
    },
    {
      "cell_type": "code",
      "source": [
        "plt.figure(figsize=(5,6))\n",
        "plt.title(\"Unemployment in India\")\n",
        "sns.histplot(x=\"Estimated Unemployment Rate\",hue=\"Region.1\",data=df)\n",
        "plt.show()"
      ],
      "metadata": {
        "id": "lmmRgppSa3J7"
      },
      "execution_count": null,
      "outputs": []
    },
    {
      "cell_type": "code",
      "source": [
        "fg=px.histogram(df,x='States',y='Estimated Unemployment Rate',title='Unemployment in India(State Wise)',template='plotly',color_discrete_sequence=['indianred'])\n",
        "fg.update_layout(xaxis={'categoryorder':'total descending'})\n",
        "fg.show()"
      ],
      "metadata": {
        "id": "w9AT6sztbOa2"
      },
      "execution_count": null,
      "outputs": []
    },
    {
      "cell_type": "code",
      "source": [
        "fg=px.histogram(df,x='Region.1',y='Estimated Unemployment Rate',title='Unemployment in India(State Wise)',template='plotly',color_discrete_sequence=['indianred'])\n",
        "fg.update_layout(xaxis={'categoryorder':'total descending'})\n",
        "fg.show()"
      ],
      "metadata": {
        "id": "6jCWiK-NevXR"
      },
      "execution_count": null,
      "outputs": []
    },
    {
      "cell_type": "code",
      "source": [
        "df.Month.unique()"
      ],
      "metadata": {
        "id": "vwV0y2IngM6e"
      },
      "execution_count": null,
      "outputs": []
    },
    {
      "cell_type": "code",
      "source": [
        "sns.barplot(x='Month',y='Estimated Unemployment Rate',hue='Year',data=df)"
      ],
      "metadata": {
        "id": "0RJlNci4gXMk"
      },
      "execution_count": null,
      "outputs": []
    },
    {
      "cell_type": "code",
      "source": [
        "sns.barplot(x='Day',y='Estimated Unemployment Rate',hue='Year',data=df)"
      ],
      "metadata": {
        "id": "N7qB4Jbnhgmt"
      },
      "execution_count": null,
      "outputs": []
    },
    {
      "cell_type": "code",
      "source": [
        "df.drop(columns=['Year'],axis=1)"
      ],
      "metadata": {
        "id": "eYJ_Ike_iXL5"
      },
      "execution_count": null,
      "outputs": []
    },
    {
      "cell_type": "code",
      "source": [
        "plt.figure(figsize=(5,6))\n",
        "plt.title('Unemployment in India')\n",
        "sns.boxplot(x='Month',y='Estimated Unemployment Rate',data=df)\n",
        "plt.show()"
      ],
      "metadata": {
        "id": "4SPWzn7SigUJ"
      },
      "execution_count": null,
      "outputs": []
    },
    {
      "cell_type": "code",
      "source": [
        "fg=px.scatter(df,x='States',y='Estimated Unemployment Rate',title='Unemployment in India(State Wise)',template='plotly',color_discrete_sequence=['indianred'])\n",
        "fg.update_layout(xaxis={'categoryorder':'total descending'})\n",
        "fg.show()"
      ],
      "metadata": {
        "id": "Lr3FDmiNjbZQ"
      },
      "execution_count": null,
      "outputs": []
    },
    {
      "cell_type": "code",
      "source": [
        "fg=px.scatter(df,x='Region.1',y='Estimated Unemployment Rate',title='Unemployment in India(State Wise)',template='plotly',color_discrete_sequence=['indianred'])\n",
        "fg.update_layout(xaxis={'categoryorder':'total descending'})\n",
        "fg.show()"
      ],
      "metadata": {
        "id": "93r9o4Cij0Fk"
      },
      "execution_count": null,
      "outputs": []
    },
    {
      "cell_type": "code",
      "source": [],
      "metadata": {
        "id": "BzTl4ZDpkEbn"
      },
      "execution_count": null,
      "outputs": []
    }
  ]
}